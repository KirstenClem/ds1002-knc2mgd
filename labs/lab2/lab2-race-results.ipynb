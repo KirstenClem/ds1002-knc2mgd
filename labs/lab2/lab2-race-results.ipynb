{
  "nbformat": 4,
  "nbformat_minor": 0,
  "metadata": {
    "colab": {
      "provenance": [],
      "include_colab_link": true
    },
    "kernelspec": {
      "name": "ir",
      "display_name": "R"
    },
    "language_info": {
      "name": "R"
    }
  },
  "cells": [
    {
      "cell_type": "markdown",
      "metadata": {
        "id": "view-in-github",
        "colab_type": "text"
      },
      "source": [
        "<a href=\"https://colab.research.google.com/github/KirstenClem/ds1002-knc2mgd/blob/main/labs/lab2/lab2-race-results.ipynb\" target=\"_parent\"><img src=\"https://colab.research.google.com/assets/colab-badge.svg\" alt=\"Open In Colab\"/></a>"
      ]
    },
    {
      "cell_type": "markdown",
      "source": [
        "# DS1002 Lab 2: Determine Race Results with R\n",
        "\n",
        "In this lab you will work with a dataset, writing R to generate the deliverables specified in the cells below.\n",
        "\n",
        "The dataset for this lab is made up of fictitious results from a road race. Runner information and results is provided in the data.\n",
        "\n",
        "Answer the questions below with the appropriate R code. Point assignments are indicated for each section. There are 10 total points possible for this lab.\n",
        "\n",
        "Useful reference material (check all R modules within the Canvas site for more help)\n",
        "- [R Reference Material](https://canvas.its.virginia.edu/courses/78571/modules#module_219810).\n",
        "- [Plots Samples](https://colab.research.google.com/github/nmagee/ds1002/blob/main/notebooks/25-plots-in-r.ipynb)"
      ],
      "metadata": {
        "id": "2yEePrJ-1G1Z"
      }
    },
    {
      "cell_type": "markdown",
      "source": [
        "## Group Submissions\n",
        "\n",
        "If you are working in a group to complete this lab, you may have no more than 3 members to a group. Group members should be indicated in the cell below -- list both names and UVA computing IDs.\n",
        "\n",
        "Each student should then submit **the same URL** for the lab in Canvas. (If a group has Member1, Member2, and Member3, only one member needs to save the completed work back to GitHub and all members should submit that URL for grading.)"
      ],
      "metadata": {
        "id": "acXFkytd2PWS"
      }
    },
    {
      "cell_type": "code",
      "source": [
        "# List group members (if applicable). Identify names and computing IDs\n",
        "\n",
        "# Kirsten Clements             Computing ID knc2mgd"
      ],
      "metadata": {
        "id": "4N8_o3tG232h"
      },
      "execution_count": null,
      "outputs": []
    },
    {
      "cell_type": "markdown",
      "source": [
        "## 1. Load Libraries & Data (1 pt)\n",
        "\n",
        "https://raw.githubusercontent.com/nmagee/ds1002/main/data/road-race.csv\n",
        "\n",
        "Import any necessary libraries and load the remote CSV file below into a data frame."
      ],
      "metadata": {
        "id": "w0VxTDNf1k2O"
      }
    },
    {
      "cell_type": "code",
      "execution_count": 7,
      "metadata": {
        "id": "I0B9chFD1GR0",
        "outputId": "f0d61c6f-da4c-45d1-a653-7460f870437d",
        "colab": {
          "base_uri": "https://localhost:8080/"
        }
      },
      "outputs": [
        {
          "output_type": "stream",
          "name": "stderr",
          "text": [
            "\n",
            "Attaching package: ‘dplyr’\n",
            "\n",
            "\n",
            "The following objects are masked from ‘package:stats’:\n",
            "\n",
            "    filter, lag\n",
            "\n",
            "\n",
            "The following objects are masked from ‘package:base’:\n",
            "\n",
            "    intersect, setdiff, setequal, union\n",
            "\n",
            "\n",
            "\u001b[1mRows: \u001b[22m\u001b[34m764\u001b[39m \u001b[1mColumns: \u001b[22m\u001b[34m5\u001b[39m\n",
            "\u001b[36m──\u001b[39m \u001b[1mColumn specification\u001b[22m \u001b[36m────────────────────────────────────────────────────────\u001b[39m\n",
            "\u001b[1mDelimiter:\u001b[22m \",\"\n",
            "\u001b[31mchr\u001b[39m  (2): runner_name, runner_gender\n",
            "\u001b[32mdbl\u001b[39m  (2): runner_bib, runner_age\n",
            "\u001b[34mtime\u001b[39m (1): finish_time\n",
            "\n",
            "\u001b[36mℹ\u001b[39m Use `spec()` to retrieve the full column specification for this data.\n",
            "\u001b[36mℹ\u001b[39m Specify the column types or set `show_col_types = FALSE` to quiet this message.\n"
          ]
        },
        {
          "output_type": "stream",
          "name": "stdout",
          "text": [
            "spc_tbl_ [764 × 5] (S3: spec_tbl_df/tbl_df/tbl/data.frame)\n",
            " $ runner_bib   : num [1:764] 1 2 3 4 5 6 7 8 9 10 ...\n",
            " $ runner_name  : chr [1:764] \"Loydie Lopes\" \"Lorens Crispe\" \"Shirline Hasser\" \"Alleyn Hartshorn\" ...\n",
            " $ runner_age   : num [1:764] 17 33 22 39 50 44 51 44 30 60 ...\n",
            " $ runner_gender: chr [1:764] \"Male\" \"Male\" \"Female\" \"Male\" ...\n",
            " $ finish_time  : 'hms' num [1:764] 16:01:00 15:40:00 14:20:00 17:06:00 ...\n",
            "  ..- attr(*, \"units\")= chr \"secs\"\n",
            " - attr(*, \"spec\")=\n",
            "  .. cols(\n",
            "  ..   runner_bib = \u001b[32mcol_double()\u001b[39m,\n",
            "  ..   runner_name = \u001b[31mcol_character()\u001b[39m,\n",
            "  ..   runner_age = \u001b[32mcol_double()\u001b[39m,\n",
            "  ..   runner_gender = \u001b[31mcol_character()\u001b[39m,\n",
            "  ..   finish_time = \u001b[34mcol_time(format = \"\")\u001b[39m\n",
            "  .. )\n",
            " - attr(*, \"problems\")=<externalptr> \n"
          ]
        }
      ],
      "source": [
        "#\n",
        "library(readr)\n",
        "library(dplyr)\n",
        "url <- \"https://raw.githubusercontent.com/nmagee/ds1002/main/data/road-race.csv\"\n",
        "race_data <- read_csv(url)\n",
        "str(race_data)"
      ]
    },
    {
      "cell_type": "markdown",
      "source": [
        "## 2. Get Summary Data (1 pt)"
      ],
      "metadata": {
        "id": "H389W9dkobGI"
      }
    },
    {
      "cell_type": "markdown",
      "source": [
        "In code, display how many rows and columns are in the raw dataset."
      ],
      "metadata": {
        "id": "KA0wbjmE-4Q9"
      }
    },
    {
      "cell_type": "code",
      "source": [
        "#\n",
        "num_row <- nrow(race_data)\n",
        "num_col <- ncol(race_data)\n",
        "print(num_row)\n",
        "print(num_col)\n"
      ],
      "metadata": {
        "id": "XhULtu7qox-p",
        "outputId": "154c8391-a081-414e-ce52-cc15af59bfa1",
        "colab": {
          "base_uri": "https://localhost:8080/"
        }
      },
      "execution_count": 6,
      "outputs": [
        {
          "output_type": "stream",
          "name": "stdout",
          "text": [
            "[1] 764\n",
            "[1] 5\n"
          ]
        }
      ]
    },
    {
      "cell_type": "markdown",
      "source": [
        "## 3. Clean and Organize the Data (2 pts)\n",
        "\n",
        "Check for data quality.\n",
        "\n",
        "- Resolve any duplicate rows.\n",
        "- If a runner does not have a finish time, they are DNF and should not be counted in the dataset.\n",
        "\n"
      ],
      "metadata": {
        "id": "abshX7QeooAs"
      }
    },
    {
      "cell_type": "code",
      "source": [
        "#\n",
        "race_data <- race_data[!duplicated(race_data), ]\n",
        "str(race_data)\n",
        "race_data <- race_data[complete.cases(race_data$Finish_Time), ]\n",
        "str(race_data)\n"
      ],
      "metadata": {
        "id": "Aq3J7yD82uwW",
        "outputId": "7694ef80-0428-4641-c4ad-eef6bf9bb5a9",
        "colab": {
          "base_uri": "https://localhost:8080/",
          "height": 107
        }
      },
      "execution_count": 3,
      "outputs": [
        {
          "output_type": "error",
          "ename": "ERROR",
          "evalue": "ignored",
          "traceback": [
            "Error in eval(expr, envir, enclos): object 'race_data' not found\nTraceback:\n"
          ]
        }
      ]
    },
    {
      "cell_type": "markdown",
      "source": [
        "Now display the first 10 rows of the cleaned dataset."
      ],
      "metadata": {
        "id": "Ccwu8bUx_Azj"
      }
    },
    {
      "cell_type": "code",
      "source": [
        "#\n",
        "head(race_data, 10)"
      ],
      "metadata": {
        "id": "1iVIskCs_Ewe",
        "outputId": "05dec47d-1c4b-46ac-f7f3-e4a39a266edd",
        "colab": {
          "base_uri": "https://localhost:8080/",
          "height": 412
        }
      },
      "execution_count": 13,
      "outputs": [
        {
          "output_type": "display_data",
          "data": {
            "text/html": [
              "<table class=\"dataframe\">\n",
              "<caption>A tibble: 10 × 5</caption>\n",
              "<thead>\n",
              "\t<tr><th scope=col>runner_bib</th><th scope=col>runner_name</th><th scope=col>runner_age</th><th scope=col>runner_gender</th><th scope=col>finish_time</th></tr>\n",
              "\t<tr><th scope=col>&lt;dbl&gt;</th><th scope=col>&lt;chr&gt;</th><th scope=col>&lt;dbl&gt;</th><th scope=col>&lt;chr&gt;</th><th scope=col>&lt;time&gt;</th></tr>\n",
              "</thead>\n",
              "<tbody>\n",
              "\t<tr><td> 1</td><td>Loydie Lopes    </td><td>17</td><td>Male  </td><td>16:01:00</td></tr>\n",
              "\t<tr><td> 2</td><td>Lorens Crispe   </td><td>33</td><td>Male  </td><td>15:40:00</td></tr>\n",
              "\t<tr><td> 3</td><td>Shirline Hasser </td><td>22</td><td>Female</td><td>14:20:00</td></tr>\n",
              "\t<tr><td> 4</td><td>Alleyn Hartshorn</td><td>39</td><td>Male  </td><td>17:06:00</td></tr>\n",
              "\t<tr><td> 5</td><td>Wang MacColl    </td><td>50</td><td>Male  </td><td>16:49:00</td></tr>\n",
              "\t<tr><td> 6</td><td>Tonnie Tidder   </td><td>44</td><td>Male  </td><td>15:43:00</td></tr>\n",
              "\t<tr><td> 7</td><td>Hermy Everal    </td><td>51</td><td>Male  </td><td>      NA</td></tr>\n",
              "\t<tr><td> 8</td><td>Basil Moxsom    </td><td>44</td><td>Male  </td><td>15:16:00</td></tr>\n",
              "\t<tr><td> 9</td><td>Lark Bragge     </td><td>30</td><td>Female</td><td>15:59:00</td></tr>\n",
              "\t<tr><td>10</td><td>Kent Wakely     </td><td>60</td><td>Male  </td><td>14:29:00</td></tr>\n",
              "</tbody>\n",
              "</table>\n"
            ],
            "text/markdown": "\nA tibble: 10 × 5\n\n| runner_bib &lt;dbl&gt; | runner_name &lt;chr&gt; | runner_age &lt;dbl&gt; | runner_gender &lt;chr&gt; | finish_time &lt;time&gt; |\n|---|---|---|---|---|\n|  1 | Loydie Lopes     | 17 | Male   | 16:01:00 |\n|  2 | Lorens Crispe    | 33 | Male   | 15:40:00 |\n|  3 | Shirline Hasser  | 22 | Female | 14:20:00 |\n|  4 | Alleyn Hartshorn | 39 | Male   | 17:06:00 |\n|  5 | Wang MacColl     | 50 | Male   | 16:49:00 |\n|  6 | Tonnie Tidder    | 44 | Male   | 15:43:00 |\n|  7 | Hermy Everal     | 51 | Male   |       NA |\n|  8 | Basil Moxsom     | 44 | Male   | 15:16:00 |\n|  9 | Lark Bragge      | 30 | Female | 15:59:00 |\n| 10 | Kent Wakely      | 60 | Male   | 14:29:00 |\n\n",
            "text/latex": "A tibble: 10 × 5\n\\begin{tabular}{lllll}\n runner\\_bib & runner\\_name & runner\\_age & runner\\_gender & finish\\_time\\\\\n <dbl> & <chr> & <dbl> & <chr> & <time>\\\\\n\\hline\n\t  1 & Loydie Lopes     & 17 & Male   & 16:01:00\\\\\n\t  2 & Lorens Crispe    & 33 & Male   & 15:40:00\\\\\n\t  3 & Shirline Hasser  & 22 & Female & 14:20:00\\\\\n\t  4 & Alleyn Hartshorn & 39 & Male   & 17:06:00\\\\\n\t  5 & Wang MacColl     & 50 & Male   & 16:49:00\\\\\n\t  6 & Tonnie Tidder    & 44 & Male   & 15:43:00\\\\\n\t  7 & Hermy Everal     & 51 & Male   &       NA\\\\\n\t  8 & Basil Moxsom     & 44 & Male   & 15:16:00\\\\\n\t  9 & Lark Bragge      & 30 & Female & 15:59:00\\\\\n\t 10 & Kent Wakely      & 60 & Male   & 14:29:00\\\\\n\\end{tabular}\n",
            "text/plain": [
              "   runner_bib runner_name      runner_age runner_gender finish_time\n",
              "1   1         Loydie Lopes     17         Male          16:01:00   \n",
              "2   2         Lorens Crispe    33         Male          15:40:00   \n",
              "3   3         Shirline Hasser  22         Female        14:20:00   \n",
              "4   4         Alleyn Hartshorn 39         Male          17:06:00   \n",
              "5   5         Wang MacColl     50         Male          16:49:00   \n",
              "6   6         Tonnie Tidder    44         Male          15:43:00   \n",
              "7   7         Hermy Everal     51         Male                NA   \n",
              "8   8         Basil Moxsom     44         Male          15:16:00   \n",
              "9   9         Lark Bragge      30         Female        15:59:00   \n",
              "10 10         Kent Wakely      60         Male          14:29:00   "
            ]
          },
          "metadata": {}
        }
      ]
    },
    {
      "cell_type": "markdown",
      "source": [
        "## 4. Calculate Elapsed Time (3 pts)"
      ],
      "metadata": {
        "id": "3-4dd8nsr_zF"
      }
    },
    {
      "cell_type": "markdown",
      "source": [
        "Using R, add a new column named `[\"finish_minutes\"]` to the dataframe that calculates the number of minutes it took for the runner to complete the race. Ideally this is a column consisting of plain integers.\n",
        "\n",
        "The starting gun was fired at precisely 12:00pm that day.\n",
        "\n",
        "Note: This is calculated using a built-in function of R, `difftime()` which takes 3 parameters:\n",
        "\n",
        "- End time\n",
        "- Start time\n",
        "- Units\n",
        "\n",
        "The result is an output that figures the difference between the two: `3 days`, `14 years`, `112 mins`, etc.\n",
        "\n",
        "The syntax for that function is below. Take care to use the proper order of parameters. The `as.POSIXct` casting makes it possible to read a long datetime in the `YYYY-MM-DDTHH:MM` format, a common `datetime` value. The `format` parameter specifies the pattern you are trying to read.\n",
        "\n",
        "```\n",
        "df$new-column <- (difftime( as.POSIXct(df$end-column, format=\"%Y-%m-%dT%H:%M\"),\n",
        "                            as.POSIXct(df$start-column, format=\"%Y-%m-%dT%H:%M\"),\n",
        "                            units=\"min\"))\n",
        "```"
      ],
      "metadata": {
        "id": "HrGLlM83vH0c"
      }
    },
    {
      "cell_type": "code",
      "source": [
        "#\n",
        "url <- \"https://raw.githubusercontent.com/nmagee/ds1002/main/data/road-race.csv\"\n",
        "data_race <- read.csv(url)\n",
        "data_race$Finish_Time <- as.POSIXct(data_race$finish_time, format = \"%Y-%m-%dT%H:%M\")\n",
        "start <- as.POSIXct(\"12:00\", format = \"%H:%M\")\n",
        "data_race$finish_minutes <- as.integer(difftime(data_race$Finish_Time, start, units = \"mins\"))\n",
        "head(data_race[, c(\"Finish_Time\", \"finish_minutes\")], 10)"
      ],
      "metadata": {
        "id": "5HKqg1bfAXbl",
        "outputId": "4a1c6a92-b61b-462b-bf34-357cc46c8a76",
        "colab": {
          "base_uri": "https://localhost:8080/",
          "height": 412
        }
      },
      "execution_count": 4,
      "outputs": [
        {
          "output_type": "display_data",
          "data": {
            "text/html": [
              "<table class=\"dataframe\">\n",
              "<caption>A data.frame: 10 × 2</caption>\n",
              "<thead>\n",
              "\t<tr><th></th><th scope=col>Finish_Time</th><th scope=col>finish_minutes</th></tr>\n",
              "\t<tr><th></th><th scope=col>&lt;dttm&gt;</th><th scope=col>&lt;int&gt;</th></tr>\n",
              "</thead>\n",
              "<tbody>\n",
              "\t<tr><th scope=row>1</th><td>NA</td><td>NA</td></tr>\n",
              "\t<tr><th scope=row>2</th><td>NA</td><td>NA</td></tr>\n",
              "\t<tr><th scope=row>3</th><td>NA</td><td>NA</td></tr>\n",
              "\t<tr><th scope=row>4</th><td>NA</td><td>NA</td></tr>\n",
              "\t<tr><th scope=row>5</th><td>NA</td><td>NA</td></tr>\n",
              "\t<tr><th scope=row>6</th><td>NA</td><td>NA</td></tr>\n",
              "\t<tr><th scope=row>7</th><td>NA</td><td>NA</td></tr>\n",
              "\t<tr><th scope=row>8</th><td>NA</td><td>NA</td></tr>\n",
              "\t<tr><th scope=row>9</th><td>NA</td><td>NA</td></tr>\n",
              "\t<tr><th scope=row>10</th><td>NA</td><td>NA</td></tr>\n",
              "</tbody>\n",
              "</table>\n"
            ],
            "text/markdown": "\nA data.frame: 10 × 2\n\n| <!--/--> | Finish_Time &lt;dttm&gt; | finish_minutes &lt;int&gt; |\n|---|---|---|\n| 1 | NA | NA |\n| 2 | NA | NA |\n| 3 | NA | NA |\n| 4 | NA | NA |\n| 5 | NA | NA |\n| 6 | NA | NA |\n| 7 | NA | NA |\n| 8 | NA | NA |\n| 9 | NA | NA |\n| 10 | NA | NA |\n\n",
            "text/latex": "A data.frame: 10 × 2\n\\begin{tabular}{r|ll}\n  & Finish\\_Time & finish\\_minutes\\\\\n  & <dttm> & <int>\\\\\n\\hline\n\t1 & NA & NA\\\\\n\t2 & NA & NA\\\\\n\t3 & NA & NA\\\\\n\t4 & NA & NA\\\\\n\t5 & NA & NA\\\\\n\t6 & NA & NA\\\\\n\t7 & NA & NA\\\\\n\t8 & NA & NA\\\\\n\t9 & NA & NA\\\\\n\t10 & NA & NA\\\\\n\\end{tabular}\n",
            "text/plain": [
              "   Finish_Time finish_minutes\n",
              "1  <NA>        NA            \n",
              "2  <NA>        NA            \n",
              "3  <NA>        NA            \n",
              "4  <NA>        NA            \n",
              "5  <NA>        NA            \n",
              "6  <NA>        NA            \n",
              "7  <NA>        NA            \n",
              "8  <NA>        NA            \n",
              "9  <NA>        NA            \n",
              "10 <NA>        NA            "
            ]
          },
          "metadata": {}
        }
      ]
    },
    {
      "cell_type": "markdown",
      "source": [
        "## 5. Identify Winners by Gender (2 pts)"
      ],
      "metadata": {
        "id": "KKg8d9RDyeDa"
      }
    },
    {
      "cell_type": "markdown",
      "source": [
        "Based on the minutes it took each runner to complete the race, identify the top three places for each gender.\n",
        "\n",
        "There are several ways to do this, some of which require less code than others. You will only be graded for producing the correct output, not on how elegant/advanced your programming is."
      ],
      "metadata": {
        "id": "5kKBo3_sykGD"
      }
    },
    {
      "cell_type": "code",
      "source": [
        "#\n",
        "library(dplyr)\n",
        "data_race <- data_race %>%\n",
        "  arrange(runner_gender, finish_minutes) %>%\n",
        "  group_by(runner_gender) %>%\n",
        "  mutate(rank = row_number()) %>%\n",
        "  filter(rank <= 3) %>%\n",
        "  select(-rank) %>%\n",
        "  ungroup()\n",
        "\n",
        "print(data_race[, c(\"runner_gender\", \"finish_minutes\")])"
      ],
      "metadata": {
        "id": "xRlliRMY2_-c",
        "outputId": "8c416799-f050-4920-c3d8-54738a70c425",
        "colab": {
          "base_uri": "https://localhost:8080/"
        }
      },
      "execution_count": 5,
      "outputs": [
        {
          "output_type": "stream",
          "name": "stderr",
          "text": [
            "\n",
            "Attaching package: ‘dplyr’\n",
            "\n",
            "\n",
            "The following object is masked from ‘package:gridExtra’:\n",
            "\n",
            "    combine\n",
            "\n",
            "\n",
            "The following objects are masked from ‘package:stats’:\n",
            "\n",
            "    filter, lag\n",
            "\n",
            "\n",
            "The following objects are masked from ‘package:base’:\n",
            "\n",
            "    intersect, setdiff, setequal, union\n",
            "\n",
            "\n"
          ]
        },
        {
          "output_type": "stream",
          "name": "stdout",
          "text": [
            "\u001b[90m# A tibble: 24 × 2\u001b[39m\n",
            "   runner_gender finish_minutes\n",
            "   \u001b[3m\u001b[90m<chr>\u001b[39m\u001b[23m                  \u001b[3m\u001b[90m<int>\u001b[39m\u001b[23m\n",
            "\u001b[90m 1\u001b[39m Agender                   \u001b[31mNA\u001b[39m\n",
            "\u001b[90m 2\u001b[39m Agender                   \u001b[31mNA\u001b[39m\n",
            "\u001b[90m 3\u001b[39m Agender                   \u001b[31mNA\u001b[39m\n",
            "\u001b[90m 4\u001b[39m Bigender                  \u001b[31mNA\u001b[39m\n",
            "\u001b[90m 5\u001b[39m Bigender                  \u001b[31mNA\u001b[39m\n",
            "\u001b[90m 6\u001b[39m Bigender                  \u001b[31mNA\u001b[39m\n",
            "\u001b[90m 7\u001b[39m Female                    \u001b[31mNA\u001b[39m\n",
            "\u001b[90m 8\u001b[39m Female                    \u001b[31mNA\u001b[39m\n",
            "\u001b[90m 9\u001b[39m Female                    \u001b[31mNA\u001b[39m\n",
            "\u001b[90m10\u001b[39m Genderfluid               \u001b[31mNA\u001b[39m\n",
            "\u001b[90m# ℹ 14 more rows\u001b[39m\n"
          ]
        }
      ]
    },
    {
      "cell_type": "markdown",
      "source": [
        "## 6. Plot the Data (3 pts)"
      ],
      "metadata": {
        "id": "2B9dxJbno0s0"
      }
    },
    {
      "cell_type": "markdown",
      "source": [
        "Finally, using `ggplot2` create two plots of the data -- density plots of race finishers.\n",
        "\n",
        "- In the first plot use `finish_minutes` as the x axis.\n",
        "- In the second plot use `runner_age` as the x axis.\n",
        "- Use `runner_gender` as the fill.\n",
        "- We suggest using a `geom_density(alpha=0.2)` or therabouts to see layers through one another.\n",
        "- Use the `gridExtra` library's `grid.arrange()` method to plot them both.\n",
        "\n",
        "You will note that since this is artificial data you will be able to see the gender layers clearly enough but they will not be statistically meaningful."
      ],
      "metadata": {
        "id": "LwMrL6-AplCH"
      }
    },
    {
      "cell_type": "code",
      "source": [
        "#\n",
        "install.packages(\"gridExtra\")\n",
        "install.packages(\"ggplot2\")\n",
        "library(ggplot2)\n",
        "library(gridExtra)\n",
        "\n",
        "minutes_plot <- ggplot(data_race, aes(x = finish_minutes, fill = runner_gender)) +\n",
        "  geom_density(alpha = 0.2) +\n",
        "  labs(title = \"Runners by Minutes\", x = \"Minutes\") +\n",
        "  theme_bw()\n",
        "\n",
        "age_plot <- ggplot(data_race, aes(x = runner_age, fill = runner_gender)) +\n",
        "  geom_density(alpha = 0.2) +\n",
        "  labs(title = \"Runners by Age\", x = \"Age\") +\n",
        "  theme_bw()\n",
        "grid.arrange(age_plot, minutes_plot, ncol = 2)\n",
        "\n",
        "\n",
        "\n"
      ],
      "metadata": {
        "id": "9vDIw9YeERNx",
        "outputId": "928e8c65-3471-4f04-b44a-8f2bee0d52fd",
        "colab": {
          "base_uri": "https://localhost:8080/"
        }
      },
      "execution_count": null,
      "outputs": [
        {
          "output_type": "stream",
          "name": "stderr",
          "text": [
            "Installing package into ‘/usr/local/lib/R/site-library’\n",
            "(as ‘lib’ is unspecified)\n",
            "\n",
            "Installing package into ‘/usr/local/lib/R/site-library’\n",
            "(as ‘lib’ is unspecified)\n",
            "\n"
          ]
        }
      ]
    }
  ]
}