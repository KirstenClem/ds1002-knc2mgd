{
  "nbformat": 4,
  "nbformat_minor": 0,
  "metadata": {
    "colab": {
      "provenance": [],
      "toc_visible": true,
      "include_colab_link": true
    },
    "kernelspec": {
      "name": "python3",
      "display_name": "Python 3"
    },
    "language_info": {
      "name": "python"
    }
  },
  "cells": [
    {
      "cell_type": "markdown",
      "metadata": {
        "id": "view-in-github",
        "colab_type": "text"
      },
      "source": [
        "<a href=\"https://colab.research.google.com/github/KirstenClem/ds1002-knc2mgd/blob/main/lab1_ftx_stock_pricing.ipynb\" target=\"_parent\"><img src=\"https://colab.research.google.com/assets/colab-badge.svg\" alt=\"Open In Colab\"/></a>"
      ]
    },
    {
      "cell_type": "markdown",
      "source": [
        "# DS1002 Lab 1: Python\n",
        "\n",
        "In this lab you will work with a dataset, writing python to generate the deliverables specified in the cells below.\n",
        "\n",
        "> **FTX** was a cryptocurrency exchange founded by Sam Bankman-Fried that saw both a spectacular rise and collapse between 2021 and 2022. At one point it had a valuation of $32B. Bankman-Fried was recently found guilty on seven counts of fraud and conspiracy.\n",
        "\n",
        "The dataset for this assignment covers that rise and fall from the viewpoint of daily stock closing prices for FTX (ticker symbol `FTT`).\n",
        "\n",
        "Answer the questions below with the appropriate Python code. Point assignments are indicated for each section. There are 15 total points possible for this lab, which counts as 5% of your overall grade. There is a 1-point extra credit option at the end.\n",
        "\n",
        "Useful reference material:\n",
        "- [Pandas Review](https://colab.research.google.com/github/nmagee/ds1002/blob/main/notebooks/pandas-review.ipynb) notebook.\n",
        "- [Charts Reference](https://colab.research.google.com/github/nmagee/ds1002/blob/main/notebooks/charts-in-colaboratory.ipynb) notebook.\n",
        "- [Plots Walkthrough](https://colab.research.google.com/github/nmagee/ds1002/blob/main/notebooks/plotting-examples.ipynb)"
      ],
      "metadata": {
        "id": "2yEePrJ-1G1Z"
      }
    },
    {
      "cell_type": "markdown",
      "source": [
        "## Group Submissions\n",
        "\n",
        "If you are working in a group to complete this lab, you may have no more than 3 members to a group. Group members should be indicated in the cell below -- list both names and UVA computing IDs.\n",
        "\n",
        "Each student should then submit **the same URL** for the lab in Canvas. (If a group has Member1, Member2, and Member3, only one member needs to save the completed work back to GitHub and all members should submit that URL for grading.)"
      ],
      "metadata": {
        "id": "acXFkytd2PWS"
      }
    },
    {
      "cell_type": "code",
      "source": [
        "# List group members (if applicable). Identify names and computing IDs\n",
        "#\n",
        "# Name                    Computing ID"
      ],
      "metadata": {
        "id": "4N8_o3tG232h"
      },
      "execution_count": null,
      "outputs": []
    },
    {
      "cell_type": "markdown",
      "source": [
        "## 1. Load Libraries & Data (3 pts)\n",
        "\n",
        "https://s3.amazonaws.com/ds1002-resources/data/ftx-2021-01-01--2023-12-31.csv\n",
        "\n",
        "Import any necessary libraries and load the remote CSV file below into a DataFrame. **Resolve any import issues you need to.**"
      ],
      "metadata": {
        "id": "w0VxTDNf1k2O"
      }
    },
    {
      "cell_type": "code",
      "execution_count": null,
      "metadata": {
        "id": "I0B9chFD1GR0",
        "colab": {
          "base_uri": "https://localhost:8080/"
        },
        "outputId": "c8bf4687-3c80-41ef-ac40-7dbac0d5b038"
      },
      "outputs": [
        {
          "output_type": "stream",
          "name": "stdout",
          "text": [
            "    timeOpen;timeClose;timeHigh;timeLow;open;high;low;close;volume;marketCap;timestamp\n",
            "0    2022-12-31T00:00:00.000Z;\"2022-12-31T23:59:59....                                \n",
            "1    2022-12-30T00:00:00.000Z;\"2022-12-30T23:59:59....                                \n",
            "2    2022-12-29T00:00:00.000Z;\"2022-12-29T23:59:59....                                \n",
            "3    2022-12-28T00:00:00.000Z;\"2022-12-28T23:59:59....                                \n",
            "4    2022-12-27T00:00:00.000Z;\"2022-12-27T23:59:59....                                \n",
            "..                                                 ...                                \n",
            "736  2021-01-06T00:00:00.000Z;\"2021-01-06T23:59:59....                                \n",
            "737  2021-01-05T00:00:00.000Z;\"2021-01-05T23:59:59....                                \n",
            "738  2021-01-04T00:00:00.000Z;\"2021-01-04T23:59:59....                                \n",
            "739  2021-01-03T00:00:00.000Z;\"2021-01-03T23:59:59....                                \n",
            "740  2021-01-03T00:00:00.000Z;\"2021-01-03T23:59:59....                                \n",
            "\n",
            "[741 rows x 1 columns]\n"
          ]
        }
      ],
      "source": [
        "import pandas as pd\n",
        "csv_file = 'https://s3.amazonaws.com/ds1002-resources/data/ftx-2021-01-01--2023-12-31.csv'\n",
        "df = pd.read_csv(csv_file)\n",
        "print(df)"
      ]
    },
    {
      "cell_type": "markdown",
      "source": [
        "## 2. Get Summary Data (1 pt)"
      ],
      "metadata": {
        "id": "H389W9dkobGI"
      }
    },
    {
      "cell_type": "markdown",
      "source": [
        "In code, display how many rows and columns are in the raw dataset."
      ],
      "metadata": {
        "id": "KA0wbjmE-4Q9"
      }
    },
    {
      "cell_type": "code",
      "source": [
        "num_rows, num_columns = df.shape\n",
        "\n",
        "print(df.shape)"
      ],
      "metadata": {
        "id": "XhULtu7qox-p",
        "colab": {
          "base_uri": "https://localhost:8080/"
        },
        "outputId": "daa695a9-685e-4e9d-f75c-fda2e5401343"
      },
      "execution_count": null,
      "outputs": [
        {
          "output_type": "stream",
          "name": "stdout",
          "text": [
            "(741, 1)\n"
          ]
        }
      ]
    },
    {
      "cell_type": "markdown",
      "source": [
        "## 3. Clean and Organize the Data (3 pts)\n",
        "\n",
        "Check for data quality.\n",
        "\n",
        "- Resolve any empty values or duplicate rows.\n",
        "- Order the data properly if necessary.\n",
        "- Drop the following columns and save the dataframe: `timeOpen`, `timeClose`, `timeHigh`, `timeLow`, `marketCap`,\n",
        "\n"
      ],
      "metadata": {
        "id": "abshX7QeooAs"
      }
    },
    {
      "cell_type": "code",
      "source": [
        "\n",
        "df = pd.read_csv(csv_file)\n",
        "\n",
        "duplicate_val = df.duplicated()\n",
        "\n",
        "print(\"Duplicate Rows:\")\n",
        "\n",
        "print(duplicate_val)\n",
        "\n",
        "print(duplicate_val.sum())\n",
        "\n",
        "df.drop_duplicates()\n",
        "\n",
        "df.dropna()\n",
        "df.dropna(how=\"all\")\n",
        "print(df.dropna(how = \"all\"))\n",
        "\n",
        "df.dropna(axis=\"columns\", how= \"all\")\n",
        "\n",
        "print(df.columns)\n",
        "\n",
        "df = pd.read_csv('https://s3.amazonaws.com/ds1002-resources/data/ftx-2021-01-01--2023-12-31.csv', sep=';')\n",
        "df.columns = df.columns.str.split(';')\n",
        "df.columns = [col[0] for col in df.columns]\n",
        "data_dropped = df.drop(['timeOpen', 'timeClose', 'timeHigh','timeLow', 'marketCap'], axis=1)\n",
        "\n",
        "print(data_dropped)\n",
        "\n",
        "data_dropped.to_csv('cleaned_data.csv', index=False)\n"
      ],
      "metadata": {
        "id": "Aq3J7yD82uwW",
        "colab": {
          "base_uri": "https://localhost:8080/"
        },
        "outputId": "f0a578a6-3b56-4d7f-8baf-be8bba7e27c0"
      },
      "execution_count": null,
      "outputs": [
        {
          "output_type": "stream",
          "name": "stdout",
          "text": [
            "Duplicate Rows:\n",
            "0      False\n",
            "1      False\n",
            "2      False\n",
            "3      False\n",
            "4      False\n",
            "       ...  \n",
            "736    False\n",
            "737    False\n",
            "738    False\n",
            "739    False\n",
            "740     True\n",
            "Length: 741, dtype: bool\n",
            "14\n",
            "    timeOpen;timeClose;timeHigh;timeLow;open;high;low;close;volume;marketCap;timestamp\n",
            "0    2022-12-31T00:00:00.000Z;\"2022-12-31T23:59:59....                                \n",
            "1    2022-12-30T00:00:00.000Z;\"2022-12-30T23:59:59....                                \n",
            "2    2022-12-29T00:00:00.000Z;\"2022-12-29T23:59:59....                                \n",
            "3    2022-12-28T00:00:00.000Z;\"2022-12-28T23:59:59....                                \n",
            "4    2022-12-27T00:00:00.000Z;\"2022-12-27T23:59:59....                                \n",
            "..                                                 ...                                \n",
            "736  2021-01-06T00:00:00.000Z;\"2021-01-06T23:59:59....                                \n",
            "737  2021-01-05T00:00:00.000Z;\"2021-01-05T23:59:59....                                \n",
            "738  2021-01-04T00:00:00.000Z;\"2021-01-04T23:59:59....                                \n",
            "739  2021-01-03T00:00:00.000Z;\"2021-01-03T23:59:59....                                \n",
            "740  2021-01-03T00:00:00.000Z;\"2021-01-03T23:59:59....                                \n",
            "\n",
            "[741 rows x 1 columns]\n",
            "Index(['timeOpen;timeClose;timeHigh;timeLow;open;high;low;close;volume;marketCap;timestamp'], dtype='object')\n",
            "         open      high       low     close       volume  \\\n",
            "0    0.838968  0.853502  0.835226  0.842688   3001502.06   \n",
            "1    0.860193  0.864752  0.826643  0.839048   3608615.07   \n",
            "2    0.885723  0.887118  0.843029  0.860231   3766979.57   \n",
            "3    0.921162  0.925702  0.869842  0.886091   4192949.85   \n",
            "4    0.931138  0.955402  0.916414  0.923668   4574953.05   \n",
            "..        ...       ...       ...       ...          ...   \n",
            "736  8.671285  9.390797  8.425946  9.390797  31404627.93   \n",
            "737  7.528216  8.714947  7.081120  8.664688  49479278.39   \n",
            "738  6.948680  7.632146  6.358218  7.514079  40526109.15   \n",
            "739  6.201133  7.007523  6.171834  6.923968  31046652.87   \n",
            "740  6.201133  7.007523  6.171834  6.923968  31046652.87   \n",
            "\n",
            "                    timestamp  \n",
            "0    2022-12-31T23:59:59.999Z  \n",
            "1    2022-12-30T23:59:59.999Z  \n",
            "2    2022-12-29T23:59:59.999Z  \n",
            "3    2022-12-28T23:59:59.999Z  \n",
            "4    2022-12-27T23:59:59.999Z  \n",
            "..                        ...  \n",
            "736  2021-01-06T23:59:59.999Z  \n",
            "737  2021-01-05T23:59:59.999Z  \n",
            "738  2021-01-04T23:59:59.999Z  \n",
            "739  2021-01-03T23:59:59.999Z  \n",
            "740  2021-01-03T23:59:59.999Z  \n",
            "\n",
            "[741 rows x 6 columns]\n"
          ]
        }
      ]
    },
    {
      "cell_type": "markdown",
      "source": [
        "Now display the first 10 rows of the cleaned dataset."
      ],
      "metadata": {
        "id": "Ccwu8bUx_Azj"
      }
    },
    {
      "cell_type": "code",
      "source": [
        "print(data_dropped.head(10))"
      ],
      "metadata": {
        "id": "1iVIskCs_Ewe",
        "colab": {
          "base_uri": "https://localhost:8080/"
        },
        "outputId": "53d9a7eb-8b4d-41c9-c2a5-c9a710b211f8"
      },
      "execution_count": null,
      "outputs": [
        {
          "output_type": "stream",
          "name": "stdout",
          "text": [
            "       open      high       low     close       volume  \\\n",
            "0  0.838968  0.853502  0.835226  0.842688   3001502.06   \n",
            "1  0.860193  0.864752  0.826643  0.839048   3608615.07   \n",
            "2  0.885723  0.887118  0.843029  0.860231   3766979.57   \n",
            "3  0.921162  0.925702  0.869842  0.886091   4192949.85   \n",
            "4  0.931138  0.955402  0.916414  0.923668   4574953.05   \n",
            "5  0.894567  1.011183  0.893652  0.930696   7065306.21   \n",
            "6  0.924432  0.935517  0.894370  0.894657   2577834.83   \n",
            "7  0.957505  0.975671  0.921085  0.924433   5055004.16   \n",
            "8  1.027133  1.038282  0.948058  0.957006  17088962.94   \n",
            "9  0.873973  1.127198  0.835625  1.027162  22418556.51   \n",
            "\n",
            "                  timestamp  \n",
            "0  2022-12-31T23:59:59.999Z  \n",
            "1  2022-12-30T23:59:59.999Z  \n",
            "2  2022-12-29T23:59:59.999Z  \n",
            "3  2022-12-28T23:59:59.999Z  \n",
            "4  2022-12-27T23:59:59.999Z  \n",
            "5  2022-12-26T23:59:59.999Z  \n",
            "6  2022-12-25T23:59:59.999Z  \n",
            "7  2022-12-24T23:59:59.999Z  \n",
            "8  2022-12-23T23:59:59.999Z  \n",
            "9  2022-12-22T23:59:59.999Z  \n"
          ]
        }
      ]
    },
    {
      "cell_type": "markdown",
      "source": [
        "## 4. Calculate Daily Gains/Losses (2 pts)"
      ],
      "metadata": {
        "id": "3-4dd8nsr_zF"
      }
    },
    {
      "cell_type": "markdown",
      "source": [
        "Using Pandas, add a new column named `[\"close_change\"]` to the dataframe that calculates the difference between daily closing prices for FTX. This will result in positive (growth) and negative (loss) values.\n",
        "\n",
        "Note:\n",
        "- Be careful about how you calculate this. Each row should calculate that difference from the row above it, which must be the previous calendar day.\n",
        "- Reference code for this is available in the [Pandas Review](https://colab.research.google.com/github/nmagee/ds1002/blob/main/notebooks/pandas-review.ipynb) notebook. Hint: It is not complicated and does not require a for-loop."
      ],
      "metadata": {
        "id": "HrGLlM83vH0c"
      }
    },
    {
      "cell_type": "code",
      "source": [
        "data_dropped['timestamp'] = pd.to_datetime(data_dropped['timestamp'])\n",
        "data_dropped.sort_values(by='timestamp', inplace=True)\n",
        "data_dropped['close_change'] = data_dropped['close'].diff()\n",
        "print(data_dropped[['timestamp', 'close', 'close_change']].head(10))\n"
      ],
      "metadata": {
        "id": "7P8J0jEtvCiv",
        "colab": {
          "base_uri": "https://localhost:8080/"
        },
        "outputId": "0d65062b-0ebe-447e-c5ab-e3e00615e62f"
      },
      "execution_count": null,
      "outputs": [
        {
          "output_type": "stream",
          "name": "stdout",
          "text": [
            "                           timestamp     close  close_change\n",
            "740 2021-01-03 23:59:59.999000+00:00  6.923968           NaN\n",
            "739 2021-01-03 23:59:59.999000+00:00  6.923968      0.000000\n",
            "738 2021-01-04 23:59:59.999000+00:00  7.514079      0.590111\n",
            "737 2021-01-05 23:59:59.999000+00:00  8.664688      1.150608\n",
            "736 2021-01-06 23:59:59.999000+00:00  9.390797      0.726110\n",
            "735 2021-01-07 23:59:59.999000+00:00  9.562131      0.171334\n",
            "734 2021-01-08 23:59:59.999000+00:00  9.380988     -0.181143\n",
            "733 2021-01-09 23:59:59.999000+00:00  9.570511      0.189522\n",
            "732 2021-01-10 23:59:59.999000+00:00  9.308809     -0.261701\n",
            "731 2021-01-11 23:59:59.999000+00:00  8.610997     -0.697813\n"
          ]
        }
      ]
    },
    {
      "cell_type": "markdown",
      "source": [
        "## 5. Identify Growth Days (1 pt)"
      ],
      "metadata": {
        "id": "KKg8d9RDyeDa"
      }
    },
    {
      "cell_type": "markdown",
      "source": [
        "Based on the daily change in closing prices calculated above, identify the top 10 days of positive growth for FTX.\n",
        "\n",
        "Display your results in a table showing both the rate of change and their dates."
      ],
      "metadata": {
        "id": "5kKBo3_sykGD"
      }
    },
    {
      "cell_type": "code",
      "source": [
        "\n",
        "positive_growth1 = data_dropped[data_dropped['close_change'] > 0].nlargest(10, 'close_change')\n",
        "print(positive_growth1[['timestamp', 'close_change']])"
      ],
      "metadata": {
        "colab": {
          "base_uri": "https://localhost:8080/"
        },
        "id": "CJ3dNK5MHgdm",
        "outputId": "cb48ffb5-64b8-45ce-a34a-7f4b2cf183b9"
      },
      "execution_count": null,
      "outputs": [
        {
          "output_type": "stream",
          "name": "stdout",
          "text": [
            "                           timestamp  close_change\n",
            "492 2021-09-01 23:59:59.999000+00:00     16.677156\n",
            "487 2021-09-06 23:59:59.999000+00:00      9.800320\n",
            "692 2021-02-19 23:59:59.999000+00:00      8.335900\n",
            "592 2021-05-24 23:59:59.999000+00:00      6.333923\n",
            "674 2021-03-09 23:59:59.999000+00:00      5.529699\n",
            "515 2021-08-09 23:59:59.999000+00:00      5.325192\n",
            "485 2021-09-08 23:59:59.999000+00:00      5.239728\n",
            "625 2021-04-26 23:59:59.999000+00:00      4.504385\n",
            "611 2021-05-05 23:59:59.999000+00:00      4.488174\n",
            "311 2022-02-28 23:59:59.999000+00:00      4.401841\n"
          ]
        }
      ]
    },
    {
      "cell_type": "markdown",
      "source": [],
      "metadata": {
        "id": "14RHG_SUHdiI"
      }
    },
    {
      "cell_type": "markdown",
      "source": [
        "## 6. Calculate the % Rate of Change (2 pts)"
      ],
      "metadata": {
        "id": "Y3AmR3eDxgfb"
      }
    },
    {
      "cell_type": "markdown",
      "source": [
        "Next, create a new column named `[\"rate_of_change\"]` based on `[\"close_change\"]`.\n",
        "\n",
        "Use the Pandas Review notebook for reference. Again, this is an easy operation in Pandas and does not require a for-loop."
      ],
      "metadata": {
        "id": "XK3yweENxjdn"
      }
    },
    {
      "cell_type": "code",
      "source": [
        "\n",
        "data_dropped['close_change'] = data_dropped['close'].diff()\n",
        "data_dropped['rate_of_change'] = data_dropped['close_change'].pct_change()\n",
        "print(data_dropped[['timestamp', 'close_change', 'rate_of_change']])"
      ],
      "metadata": {
        "id": "FqL5yyvi6w7r",
        "colab": {
          "base_uri": "https://localhost:8080/"
        },
        "outputId": "76d3e415-4e6d-4dfc-dd25-9392fdd0da75"
      },
      "execution_count": null,
      "outputs": [
        {
          "output_type": "stream",
          "name": "stdout",
          "text": [
            "                           timestamp  close_change  rate_of_change\n",
            "740 2021-01-03 23:59:59.999000+00:00           NaN             NaN\n",
            "739 2021-01-03 23:59:59.999000+00:00      0.000000             NaN\n",
            "738 2021-01-04 23:59:59.999000+00:00      0.590111             inf\n",
            "737 2021-01-05 23:59:59.999000+00:00      1.150608        0.949817\n",
            "736 2021-01-06 23:59:59.999000+00:00      0.726110       -0.368934\n",
            "..                               ...           ...             ...\n",
            "4   2022-12-27 23:59:59.999000+00:00     -0.007028       -1.195015\n",
            "3   2022-12-28 23:59:59.999000+00:00     -0.037577        4.346593\n",
            "2   2022-12-29 23:59:59.999000+00:00     -0.025860       -0.311817\n",
            "1   2022-12-30 23:59:59.999000+00:00     -0.021183       -0.180850\n",
            "0   2022-12-31 23:59:59.999000+00:00      0.003640       -1.171848\n",
            "\n",
            "[741 rows x 3 columns]\n"
          ]
        }
      ]
    },
    {
      "cell_type": "markdown",
      "source": [
        "## 7. Identify Greatest % Change Days (1 pt)"
      ],
      "metadata": {
        "id": "2ifRW8qU3OOB"
      }
    },
    {
      "cell_type": "markdown",
      "source": [
        "Based on the rate change column calculated above, identify the top 5 days of greatest rate changes, whether positive or negative.\n",
        "\n",
        "Display your results in a table showing both the rate of change and their dates."
      ],
      "metadata": {
        "id": "ISZf2C1j3bAA"
      }
    },
    {
      "cell_type": "code",
      "source": [],
      "metadata": {
        "id": "MQk-TPqVHL6Q"
      },
      "execution_count": null,
      "outputs": []
    },
    {
      "cell_type": "markdown",
      "source": [
        "## 8. Plot the Data (2 pts)"
      ],
      "metadata": {
        "id": "2B9dxJbno0s0"
      }
    },
    {
      "cell_type": "markdown",
      "source": [
        "Finally, create two separate plots of the data -- one for the daily closing price and one for the daily gains/losses. These can be histograms or line plots."
      ],
      "metadata": {
        "id": "LwMrL6-AplCH"
      }
    },
    {
      "cell_type": "code",
      "source": [
        "import matplotlib.pyplot as plt\n",
        "import pandas as pd\n",
        "import numpy as np\n",
        "\n"
      ],
      "metadata": {
        "id": "R0vq1cLRB0Kl"
      },
      "execution_count": null,
      "outputs": []
    },
    {
      "cell_type": "markdown",
      "source": [
        "## BONUS! (1 pt)"
      ],
      "metadata": {
        "id": "5veEUQsk5qYq"
      }
    },
    {
      "cell_type": "markdown",
      "source": [
        "Combine the two plots from #8 above into a single plot, displaying both together. Your plot should have two Y-axis scales, should differentiate the two values by color, and should include a legend."
      ],
      "metadata": {
        "id": "xRT2iFAI5s4S"
      }
    },
    {
      "cell_type": "code",
      "source": [],
      "metadata": {
        "id": "epypcCLc6QxL"
      },
      "execution_count": null,
      "outputs": []
    }
  ]
}