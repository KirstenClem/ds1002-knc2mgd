{
  "nbformat": 4,
  "nbformat_minor": 0,
  "metadata": {
    "colab": {
      "provenance": [],
      "include_colab_link": true
    },
    "kernelspec": {
      "name": "ir",
      "display_name": "R"
    },
    "language_info": {
      "name": "R"
    }
  },
  "cells": [
    {
      "cell_type": "markdown",
      "metadata": {
        "id": "view-in-github",
        "colab_type": "text"
      },
      "source": [
        "<a href=\"https://colab.research.google.com/github/KirstenClem/ds1002-knc2mgd/blob/main/homework/week-15.ipynb\" target=\"_parent\"><img src=\"https://colab.research.google.com/assets/colab-badge.svg\" alt=\"Open In Colab\"/></a>"
      ]
    },
    {
      "cell_type": "markdown",
      "source": [
        "# Homework - Week 15\n",
        "\n",
        "Complete the following blocks as specified in the directions. Run each cell to return the desired output. Save your notebook back to your GitHub repository and submit the GitHub URL to your notebook for review."
      ],
      "metadata": {
        "id": "sZruw3XQogej"
      }
    },
    {
      "cell_type": "markdown",
      "source": [
        "## 1. Create Functions (4 pts)\n",
        "\n",
        "Create two functions in the cells below, according to the prompts given."
      ],
      "metadata": {
        "id": "lkaofBQypx1X"
      }
    },
    {
      "cell_type": "code",
      "source": [
        "# create a function in R that:\n",
        "#   1. takes a single integer as an input parameter\n",
        "#   2. determines whether the integer is even or odd\n",
        "#   3. returns a character statement \"The integer <x> is even\" or \"The integer <x> is odd\" (replace <x> with the actual input provided)\n",
        "#\n",
        "# then execute the function twice using two different input values, displaying even and odd results.\n",
        "\n",
        "check_num <- function(x){\n",
        "  if (x %% 2 == 0) {\n",
        "    return(paste(\"The integer\", x, \"is even\"))\n",
        "  } else {\n",
        "    return(paste(\"The integer\", x, \"is odd\"))\n",
        "  }\n",
        "}\n",
        "\n",
        "in_1 <- check_num(4)\n",
        "in_2 <- check_num(7)\n",
        "\n",
        "\n",
        "print(in_1)\n",
        "print(in_2)"
      ],
      "metadata": {
        "id": "1fjq5bkEp6Zv",
        "outputId": "529bffa6-d661-498c-c793-7127327418d2",
        "colab": {
          "base_uri": "https://localhost:8080/"
        }
      },
      "execution_count": 6,
      "outputs": [
        {
          "output_type": "stream",
          "name": "stdout",
          "text": [
            "[1] \"The integer 4 is even\"\n",
            "[1] \"The integer 7 is odd\"\n"
          ]
        }
      ]
    },
    {
      "cell_type": "code",
      "source": [
        "# create a function in R that:\n",
        "#   1. takes 4 integer input parameters\n",
        "#   2. returns the mean value of the inputs\n",
        "#   3. has default values for the 4 input parameters, in case they are not provided when the function is called.\n",
        "#\n",
        "# then execute the function twice: once where you provide the input values, and once where you do not.\n",
        "\n",
        "calc_num <- function(a = 0, b = 0, c = 0, d = 0) {\n",
        "  mean_val <- mean(c(a, b, c, d))\n",
        "  return(mean_val)\n",
        "}\n",
        "\n",
        "input_num <- calc_num(2, 8, 5, 3)\n",
        "\n",
        "none_in <- calc_num()\n",
        "\n",
        "print(input_num)\n",
        "print(none_in)\n"
      ],
      "metadata": {
        "id": "f3IFD-T6p6Rd",
        "outputId": "73fdf01b-1d9b-4b53-9bc7-2aace4349fee",
        "colab": {
          "base_uri": "https://localhost:8080/"
        }
      },
      "execution_count": 9,
      "outputs": [
        {
          "output_type": "stream",
          "name": "stdout",
          "text": [
            "[1] 4.5\n",
            "[1] 0\n"
          ]
        }
      ]
    },
    {
      "cell_type": "markdown",
      "source": [
        "## 2. Plot Data (4 pts)"
      ],
      "metadata": {
        "id": "F6Rx0GIGrpOB"
      }
    },
    {
      "cell_type": "markdown",
      "source": [
        "In the cell below, write the code required to plot from the `msleep` sample data set.\n",
        "\n",
        "1. Display only animals with body weights of 30 or greater.\n",
        "2. Group the animals by `order`.\n",
        "3. Display the mean `sleep_total` for each group in a bar plot."
      ],
      "metadata": {
        "id": "IDLyOjOJsFCX"
      }
    },
    {
      "cell_type": "code",
      "source": [
        "#\n",
        "library(ggplot2)\n",
        "data(msleep)\n",
        "\n",
        "alt_data <- msleep[msleep$bodywt >= 30, ]\n",
        "\n",
        "plot <- ggplot(alt_data, aes(x = reorder(order, -sleep_total), y = sleep_total)) +\n",
        "  geom_col() +\n",
        "  labs(title = \"Mean Sleep Total by Order\",\n",
        "       x = \"Order\",\n",
        "       y = \"Sleep Total\") +\n",
        "  theme_minimal()\n",
        "\n",
        "print(plot)\n"
      ],
      "metadata": {
        "id": "0D5Ia-BPsoPZ",
        "outputId": "585fe6b4-6e34-430d-9eaf-7df7b8ea0055",
        "colab": {
          "base_uri": "https://localhost:8080/",
          "height": 437
        }
      },
      "execution_count": 15,
      "outputs": [
        {
          "output_type": "display_data",
          "data": {
            "text/plain": [
              "plot without title"
            ],
            "image/png": "[encoded data removed]"
          },
          "metadata": {
            "image/png": {
              "width": 420,
              "height": 420
            }
          }
        }
      ]
    },
    {
      "cell_type": "markdown",
      "source": [
        "## 3. Clean and Analyze Data Using R (4 pts)\n",
        "\n",
        "In the cells below use R to perform the following data cleaning steps on this file:\n",
        "https://raw.githubusercontent.com/nmagee/ds1002/main/data/social-media-users.csv\n",
        "\n",
        "1. Remove any duplicate rows.\n",
        "2. Remove any records where `last_login` or `birthdate` are empty.\n",
        "3. Display only the records with the 10 highest `follower` counts.\n",
        "4. Determine counts of users when grouped by continent."
      ],
      "metadata": {
        "id": "-2ZaFcCCv3o8"
      }
    },
    {
      "cell_type": "code",
      "source": [
        "#\n",
        "library(dplyr)\n",
        "library(readr)\n",
        "url <- \"https://raw.githubusercontent.com/nmagee/ds1002/main/data/social-media-users.csv\"\n",
        "media_data <- read_csv(url)\n",
        "media_data <- distinct(media_data)\n"
      ],
      "metadata": {
        "id": "V4nBsdVsyauQ",
        "outputId": "cc033aa7-8b7e-4287-8ec6-b953922b1fe9",
        "colab": {
          "base_uri": "https://localhost:8080/"
        }
      },
      "execution_count": 19,
      "outputs": [
        {
          "output_type": "stream",
          "name": "stderr",
          "text": [
            "\u001b[1mRows: \u001b[22m\u001b[34m1318\u001b[39m \u001b[1mColumns: \u001b[22m\u001b[34m8\u001b[39m\n",
            "\u001b[36m──\u001b[39m \u001b[1mColumn specification\u001b[22m \u001b[36m────────────────────────────────────────────────────────\u001b[39m\n",
            "\u001b[1mDelimiter:\u001b[22m \",\"\n",
            "\u001b[31mchr\u001b[39m (7): username, full_name, birthdate, email, continent, last_login, inter...\n",
            "\u001b[32mdbl\u001b[39m (1): followers\n",
            "\n",
            "\u001b[36mℹ\u001b[39m Use `spec()` to retrieve the full column specification for this data.\n",
            "\u001b[36mℹ\u001b[39m Specify the column types or set `show_col_types = FALSE` to quiet this message.\n"
          ]
        }
      ]
    },
    {
      "cell_type": "code",
      "source": [
        "#\n",
        "media_data <- media_data\n",
        "media_data <- filter(media_data, complete.cases(last_login, birthdate))"
      ],
      "metadata": {
        "id": "LwXD1sNulIT3"
      },
      "execution_count": 35,
      "outputs": []
    },
    {
      "cell_type": "code",
      "source": [
        "#\n",
        "follow_10 <- media_data\n",
        "topfollow_10 <- head(arrange(follow_10,desc(followers)),10)\n",
        "print(topfollow_10)\n"
      ],
      "metadata": {
        "id": "7qa100btlI4Z",
        "outputId": "2e5b1131-e9e3-4356-af01-4c169ed819fc",
        "colab": {
          "base_uri": "https://localhost:8080/"
        }
      },
      "execution_count": 37,
      "outputs": [
        {
          "output_type": "stream",
          "name": "stdout",
          "text": [
            "\u001b[90m# A tibble: 10 × 8\u001b[39m\n",
            "   username   full_name birthdate email continent followers last_login interests\n",
            "   \u001b[3m\u001b[90m<chr>\u001b[39m\u001b[23m      \u001b[3m\u001b[90m<chr>\u001b[39m\u001b[23m     \u001b[3m\u001b[90m<chr>\u001b[39m\u001b[23m     \u001b[3m\u001b[90m<chr>\u001b[39m\u001b[23m \u001b[3m\u001b[90m<chr>\u001b[39m\u001b[23m         \u001b[3m\u001b[90m<dbl>\u001b[39m\u001b[23m \u001b[3m\u001b[90m<chr>\u001b[39m\u001b[23m      \u001b[3m\u001b[90m<chr>\u001b[39m\u001b[23m    \n",
            "\u001b[90m 1\u001b[39m lleckeyb6  Lynne Le… 4/19/1998 llec… SA            \u001b[4m9\u001b[24m\u001b[4m9\u001b[24m977 3/14/2021  sports   \n",
            "\u001b[90m 2\u001b[39m cduftondy  Celisse … 8/24/1995 cduf… OC            \u001b[4m9\u001b[24m\u001b[4m9\u001b[24m707 9/26/2021  sports   \n",
            "\u001b[90m 3\u001b[39m dbartalin… Desiree … 8/23/1993 dbar… AF            \u001b[4m9\u001b[24m\u001b[4m9\u001b[24m618 5/30/2022  music    \n",
            "\u001b[90m 4\u001b[39m grivardmp  Gwen Riv… 9/12/1982 griv… OC            \u001b[4m9\u001b[24m\u001b[4m9\u001b[24m526 4/4/2020   music    \n",
            "\u001b[90m 5\u001b[39m kmorriceht Kitti Mo… 6/3/1995  kmor… SA            \u001b[4m9\u001b[24m\u001b[4m8\u001b[24m936 3/24/2021  sports   \n",
            "\u001b[90m 6\u001b[39m smacdonne… Shoshann… 9/12/2002 smac… AS            \u001b[4m9\u001b[24m\u001b[4m8\u001b[24m760 7/20/2021  music    \n",
            "\u001b[90m 7\u001b[39m ebroomq9   Early Br… 3/10/2000 ebro… AF            \u001b[4m9\u001b[24m\u001b[4m8\u001b[24m606 10/22/2023 sports   \n",
            "\u001b[90m 8\u001b[39m schapell4j Shepard … 9/3/1993  scha… AS            \u001b[4m9\u001b[24m\u001b[4m8\u001b[24m479 2/14/2021  music    \n",
            "\u001b[90m 9\u001b[39m tbaptiepo  Thorvald… 10/23/19… tbap… OC            \u001b[4m9\u001b[24m\u001b[4m8\u001b[24m233 5/27/2022  sports   \n",
            "\u001b[90m10\u001b[39m nbarbeyq2  Nelson B… 12/15/19… nbar… OC            \u001b[4m9\u001b[24m\u001b[4m8\u001b[24m172 6/18/2022  music    \n"
          ]
        }
      ]
    },
    {
      "cell_type": "code",
      "source": [
        "#\n",
        "continent_count <- count(media_data, continent)\n",
        "colnames(continent_count) <- c(\"continent\", \"user_num\")\n",
        "print(continent_count)"
      ],
      "metadata": {
        "id": "MjrZisnxlJUa",
        "outputId": "c35db6be-4eed-46a0-b500-c617123625fa",
        "colab": {
          "base_uri": "https://localhost:8080/"
        }
      },
      "execution_count": 41,
      "outputs": [
        {
          "output_type": "stream",
          "name": "stdout",
          "text": [
            "\u001b[90m# A tibble: 5 × 2\u001b[39m\n",
            "  continent user_num\n",
            "  \u001b[3m\u001b[90m<chr>\u001b[39m\u001b[23m        \u001b[3m\u001b[90m<int>\u001b[39m\u001b[23m\n",
            "\u001b[90m1\u001b[39m AF              70\n",
            "\u001b[90m2\u001b[39m AS             111\n",
            "\u001b[90m3\u001b[39m EU              77\n",
            "\u001b[90m4\u001b[39m OC              95\n",
            "\u001b[90m5\u001b[39m SA              69\n"
          ]
        }
      ]
    }
  ]
}