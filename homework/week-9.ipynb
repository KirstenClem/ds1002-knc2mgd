{
  "nbformat": 4,
  "nbformat_minor": 0,
  "metadata": {
    "colab": {
      "provenance": [],
      "include_colab_link": true
    },
    "kernelspec": {
      "name": "python3",
      "display_name": "Python 3"
    },
    "language_info": {
      "name": "python"
    }
  },
  "cells": [
    {
      "cell_type": "markdown",
      "metadata": {
        "id": "view-in-github",
        "colab_type": "text"
      },
      "source": [
        "<a href=\"https://colab.research.google.com/github/KirstenClem/ds1002-knc2mgd/blob/main/homework/week-9.ipynb\" target=\"_parent\"><img src=\"https://colab.research.google.com/assets/colab-badge.svg\" alt=\"Open In Colab\"/></a>"
      ]
    },
    {
      "cell_type": "markdown",
      "source": [
        "# Homework - Week 9\n",
        "\n",
        "Complete the following blocks as specified in the directions. Run each cell to return the desired output. Save your notebook back to your GitHub repository and submit the GitHub URL to your notebook for review."
      ],
      "metadata": {
        "id": "phbaQTT5gy8A"
      }
    },
    {
      "cell_type": "markdown",
      "source": [
        "## Functions\n",
        "\n",
        "In the cell below define a function that takes one parameter (in the form of a list) called `names` and returns a simple greeting for each name, such as\n",
        "\n",
        "    \"Hello Natasha, it's so nice to meet you\"\n",
        "    \"Hello Sid, it's so nice to meet you\"\n",
        "\n",
        "Define the function and run it, and in another cell below call the function populated with a var of a list of names."
      ],
      "metadata": {
        "id": "38Pg39pMrDua"
      }
    },
    {
      "cell_type": "code",
      "source": [
        "#\n",
        "def names(example):\n",
        "  for example in example:\n",
        "    greeting = \"Hello, [nameslist1] \"\n",
        "    print(greeting)\n"
      ],
      "metadata": {
        "id": "kdFLCHtOg53p"
      },
      "execution_count": 26,
      "outputs": []
    },
    {
      "cell_type": "code",
      "source": [
        "#\n",
        "nameslist1 = [\"Jenna\", \"Emily\",\"Megan\",\"Julia\" ]\n",
        "names(nameslist1)"
      ],
      "metadata": {
        "id": "JlNPe_XUsmog",
        "outputId": "68a29eef-23b0-4ccb-cd7f-a34f56937193",
        "colab": {
          "base_uri": "https://localhost:8080/"
        }
      },
      "execution_count": 27,
      "outputs": [
        {
          "output_type": "stream",
          "name": "stdout",
          "text": [
            "Hello, [nameslist1] \n",
            "Hello, [nameslist1] \n",
            "Hello, [nameslist1] \n",
            "Hello, [nameslist1] \n",
            "None\n"
          ]
        }
      ]
    },
    {
      "cell_type": "markdown",
      "source": [
        "Using the following list, pass it into a function you define that will evaluate the list and return a count of how many items is in it. Be creative.\n",
        "\n",
        "```\n",
        "mylist = [\"Toronto\",\"Buffalo\",\"Syracuse\",\"Albany\",\"Schenectady\",\"Brooklyn\",\"Rome\",\"Ithaca\"]\n",
        "```"
      ],
      "metadata": {
        "id": "mXqNACpkrdUZ"
      }
    },
    {
      "cell_type": "code",
      "source": [
        "#\n",
        "def count(mylist1):\n",
        "  return len(mylist1)\n",
        "mylist = [\"Toronto\",\"Buffalo\",\"Syracuse\",\"Albany\",\"Schenectady\",\"Brooklyn\",\"Rome\",\"Ithaca\"]\n",
        "count_city = count(mylist)\n",
        "print(count_city)"
      ],
      "metadata": {
        "id": "mvxOzRSisg0a",
        "outputId": "b1f58d56-c1d7-4bd2-e9bb-d007057979da",
        "colab": {
          "base_uri": "https://localhost:8080/"
        }
      },
      "execution_count": 28,
      "outputs": [
        {
          "output_type": "stream",
          "name": "stdout",
          "text": [
            "8\n"
          ]
        }
      ]
    },
    {
      "cell_type": "markdown",
      "source": [
        "## Input Validation\n",
        "\n",
        "Write a function below that defines two input parameters as `bool` and returns a `bool`.\n",
        "In the cell below that, populate two variables with two different bools (True and False)\n",
        "and pass them into a call of your function."
      ],
      "metadata": {
        "id": "YU7FXSCXsFab"
      }
    },
    {
      "cell_type": "code",
      "source": [
        "#\n",
        "def boolean(x,y):\n",
        "  thing = x and y\n",
        "  return thing\n",
        "\n",
        "bool_1 = True\n",
        "bool_2 = False\n",
        "\n",
        "thing = boolean(bool_1, bool_2)\n",
        "print(thing)\n"
      ],
      "metadata": {
        "id": "DGMJZjlysfHU",
        "outputId": "7bd72615-62c9-4799-d42e-7d46c146b1bb",
        "colab": {
          "base_uri": "https://localhost:8080/"
        }
      },
      "execution_count": 29,
      "outputs": [
        {
          "output_type": "stream",
          "name": "stdout",
          "text": [
            "False\n"
          ]
        }
      ]
    },
    {
      "cell_type": "markdown",
      "source": [
        "## Global Variables\n",
        "\n",
        "Define a global variable and populate it with a data type (int, str, bool, float, etc.)"
      ],
      "metadata": {
        "id": "xXZTr5fdsd5M"
      }
    },
    {
      "cell_type": "code",
      "source": [
        "#\n",
        "x = 10"
      ],
      "metadata": {
        "id": "HN8CFLVRs6_L"
      },
      "execution_count": 32,
      "outputs": []
    },
    {
      "cell_type": "markdown",
      "source": [
        "Now create a function that prints out the global variable. Call the function and display the value of the var."
      ],
      "metadata": {
        "id": "G1Auc6l1s8F6"
      }
    },
    {
      "cell_type": "code",
      "source": [
        "#\n",
        "def func(example):\n",
        "  print(x)\n",
        "print(func(x))"
      ],
      "metadata": {
        "id": "Q6O0Ep_wtBWJ",
        "outputId": "77e7a4ba-ad75-4f8d-8ac8-ade6b4da236d",
        "colab": {
          "base_uri": "https://localhost:8080/"
        }
      },
      "execution_count": 35,
      "outputs": [
        {
          "output_type": "stream",
          "name": "stdout",
          "text": [
            "10\n",
            "None\n"
          ]
        }
      ]
    },
    {
      "cell_type": "markdown",
      "source": [
        "Now create a function that creates its own global var and populates it.\n",
        "Call the function and then print out the global var from outside of the function."
      ],
      "metadata": {
        "id": "IN2TRQI8tCC4"
      }
    },
    {
      "cell_type": "code",
      "source": [
        "def func1(thing):\n",
        "  global hand\n",
        "  hand = \"have a nice day!\"\n",
        "func1(x)\n",
        "print(hand)\n"
      ],
      "metadata": {
        "id": "Oz4rnmfTtKen",
        "outputId": "7a0ae136-c928-42d0-8120-25b312962527",
        "colab": {
          "base_uri": "https://localhost:8080/"
        }
      },
      "execution_count": 38,
      "outputs": [
        {
          "output_type": "stream",
          "name": "stdout",
          "text": [
            "have a nice day!\n"
          ]
        }
      ]
    },
    {
      "cell_type": "markdown",
      "source": [
        "Finally, write a function that updates the value of the global var you defined 3 cells above.\n",
        "\n",
        "1. Within the function, print out the global var you defined 3 cells above.\n",
        "2. Update the global var to have a new value.\n",
        "3. Within the function, print the new value of the global var.\n",
        "\n",
        "Call the function and once more print out the value of the global var from outside of the function."
      ],
      "metadata": {
        "id": "jv0dtym0tLZn"
      }
    },
    {
      "cell_type": "code",
      "source": [
        "#\n",
        "x = 10\n",
        "def updatefunc(nice):\n",
        "  global x\n",
        "  x = 25\n",
        "updatefunc(x)\n",
        "print(x)"
      ],
      "metadata": {
        "id": "pnX-hfKouLcG",
        "outputId": "911529e4-a028-438a-975e-fb1901976926",
        "colab": {
          "base_uri": "https://localhost:8080/"
        }
      },
      "execution_count": 41,
      "outputs": [
        {
          "output_type": "stream",
          "name": "stdout",
          "text": [
            "25\n"
          ]
        }
      ]
    }
  ]
}