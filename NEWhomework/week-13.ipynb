{
  "nbformat": 4,
  "nbformat_minor": 0,
  "metadata": {
    "colab": {
      "provenance": [],
      "include_colab_link": true
    },
    "kernelspec": {
      "name": "ir",
      "display_name": "R"
    },
    "language_info": {
      "name": "R"
    }
  },
  "cells": [
    {
      "cell_type": "markdown",
      "metadata": {
        "id": "view-in-github",
        "colab_type": "text"
      },
      "source": [
        "<a href=\"https://colab.research.google.com/github/KirstenClem/ds1002-knc2mgd/blob/main/NEWhomework/week-13.ipynb\" target=\"_parent\"><img src=\"https://colab.research.google.com/assets/colab-badge.svg\" alt=\"Open In Colab\"/></a>"
      ]
    },
    {
      "cell_type": "markdown",
      "source": [
        "# Homework - Week 13\n",
        "\n",
        "Complete the following blocks as specified in the directions. Run each cell to return the desired output. Save your notebook back to your GitHub repository and submit the GitHub URL to your notebook for review."
      ],
      "metadata": {
        "id": "sZruw3XQogej"
      }
    },
    {
      "cell_type": "markdown",
      "source": [
        "## 1. Change Runtime to R (1 pt)\n",
        "\n",
        "Change the runtime of this notebook to R. You can verify that you are running R by displaying the current version you are running. Run the cell below and show the output."
      ],
      "metadata": {
        "id": "KmpG99aAokL9"
      }
    },
    {
      "cell_type": "code",
      "execution_count": 1,
      "metadata": {
        "id": "k03Z1NKAoZrW",
        "outputId": "29c2f3f7-bc5a-48f8-ea0f-1c65299b6ea0",
        "colab": {
          "base_uri": "https://localhost:8080/",
          "height": 285
        }
      },
      "outputs": [
        {
          "output_type": "display_data",
          "data": {
            "text/plain": [
              "               _                           \n",
              "platform       x86_64-pc-linux-gnu         \n",
              "arch           x86_64                      \n",
              "os             linux-gnu                   \n",
              "system         x86_64, linux-gnu           \n",
              "status                                     \n",
              "major          4                           \n",
              "minor          3.2                         \n",
              "year           2023                        \n",
              "month          10                          \n",
              "day            31                          \n",
              "svn rev        85441                       \n",
              "language       R                           \n",
              "version.string R version 4.3.2 (2023-10-31)\n",
              "nickname       Eye Holes                   "
            ]
          },
          "metadata": {}
        }
      ],
      "source": [
        "version"
      ]
    },
    {
      "cell_type": "markdown",
      "source": [
        "## 2. Create Vectors (2 pts)\n",
        "\n",
        "Create two vectors in the cells below, according to the prompts given."
      ],
      "metadata": {
        "id": "lkaofBQypx1X"
      }
    },
    {
      "cell_type": "code",
      "source": [
        "# create a vector with 7 integer values. Assign it to a variable named \"my_integers\"\n",
        "my_integers <- c(2, 4, 6, 8, 10, 12, 14)\n",
        "\n",
        "print(my_integers)"
      ],
      "metadata": {
        "id": "1fjq5bkEp6Zv"
      },
      "execution_count": null,
      "outputs": []
    },
    {
      "cell_type": "code",
      "source": [
        "var1 = 8\n",
        "var2 = 4\n",
        "var3 = 12\n",
        "var4 = 25\n",
        "\n",
        "# Using the variables given above, assign three new variables the following calculated values:\n",
        "#\n",
        "# 1. Your first variable should be assigned the calculated value of var2 divided by var1.\n",
        "# 2. Your second variable should be assigned the calculated value of var2 cubed times var3.\n",
        "# 3. Your third variable should be assigned the calculated value of var4 integer divided by var3.\n",
        "#\n",
        "# Next, create an array populated by your three variables. Assign the array to a new variable named \"my_calculated_values\"\n",
        "\n",
        "newvariable_1 <- var2 / var1\n",
        "\n",
        "newvariable_2 <- var2^3 * var3\n",
        "\n",
        "newvariable_3 <- (var4) %/% var3\n",
        "\n",
        "\n",
        "print(newvariable_1)\n",
        "print(newvariable_2)\n",
        "print(newvariable_3)\n",
        "\n",
        "my_calculated_values <- array(c(newvariable_1, newvariable_2, newvariable_3), dim = c(1, 3))\n",
        "print(my_calculated_values)"
      ],
      "metadata": {
        "id": "f3IFD-T6p6Rd"
      },
      "execution_count": null,
      "outputs": []
    },
    {
      "cell_type": "markdown",
      "source": [
        "## 3. Vector Indexes (3 pts)"
      ],
      "metadata": {
        "id": "F6Rx0GIGrpOB"
      }
    },
    {
      "cell_type": "markdown",
      "source": [
        "In the cell below, create a vector that starts with the integer 4, that increments by counts of 3 all the way to 28.\n",
        "\n",
        "Assign the vector to a variable name."
      ],
      "metadata": {
        "id": "IDLyOjOJsFCX"
      }
    },
    {
      "cell_type": "code",
      "source": [
        "#\n",
        "vector_1 <- seq(from = 4, to = 28, by = 3)\n",
        "print(vector_1)\n"
      ],
      "metadata": {
        "id": "0D5Ia-BPsoPZ"
      },
      "execution_count": null,
      "outputs": []
    },
    {
      "cell_type": "markdown",
      "source": [
        "Next, show how to display this vector with the 3 index removed."
      ],
      "metadata": {
        "id": "RxFRiRMvtfXI"
      }
    },
    {
      "cell_type": "code",
      "source": [
        "#\n",
        "mod_vector <- vector_1[-3]\n",
        "print(mod_vector)"
      ],
      "metadata": {
        "id": "MBg7V1LztQlv"
      },
      "execution_count": null,
      "outputs": []
    },
    {
      "cell_type": "markdown",
      "source": [
        "Finally, show how to delete the 4th, 5th, and 7th indexes from the vector and update the vector so they are forever removed from the vector.\n",
        "\n",
        "Hint: there is a fairly simple way to do this in one line, such that you don't have to run a separate command for each removal."
      ],
      "metadata": {
        "id": "Rmci-rVCtq-C"
      }
    },
    {
      "cell_type": "code",
      "source": [
        "#\n",
        "mod_vector2 <- mod_vector[-c(4, 5, 7)]\n",
        "print(mod_vector2)"
      ],
      "metadata": {
        "id": "y1k0NHNruFX2"
      },
      "execution_count": null,
      "outputs": []
    },
    {
      "cell_type": "markdown",
      "source": [
        "## 4. Create a Data Frame (3 pts)\n",
        "\n",
        "In the cell below create a data frame with 10 observations (rows) and 5 variables (columns) each. This data frame will describe some of your favorite musical performers. You can use real or fictitious data to populate your data frame.\n",
        "\n",
        "Variables:\n",
        "  - `artist` - Artist or band name\n",
        "  - `category` - Rock, Pop, Country, Hip-hop, Jazz, Classical, Soul, Other. (Try to distribute your selections here)\n",
        "  - `size` - (number of members, 1-?)\n",
        "  - `start` - Debut year of artist.\n",
        "  - `grammy` - Grammmy winner? `TRUE` | `FALSE`\n",
        "\n",
        "First create vectors for each variable populated with your own performer data. Then create a data frame from these vectors (be sure to assign column names too) and assign it to a named variable such as `df`."
      ],
      "metadata": {
        "id": "-2ZaFcCCv3o8"
      }
    },
    {
      "cell_type": "code",
      "source": [
        "#\n",
        "\n",
        "artist <- c(\"Justin Bieber\", \"Taylor Swift\", \"The Beatles\", \"Ariana Grande\", \"Arctic Monkeys\", \"Coldplay\", \"Keith Urban\",\n",
        "            \"Thomas Rhett\", \"Luke Bryan\", \"Boston\")\n",
        "category <- c(\"Pop\", \"Pop\", \"Rock\", \"Pop\", \"Alternative Rock\", \"Alternative Rock\", \"Country\", \"Country\",\n",
        "              \"Country\", \"Rock\")\n",
        "size <- c(\"1\", \"1\", \"4\",\"1\", \"4\",\"4\",\"1\",\"1\",\"1\",\"4\")\n",
        "start <- c(2010,2006,1963,2013,2006,2000,1991,2013,2007,1976)\n",
        "grammy <- c(TRUE, TRUE, TRUE, TRUE, TRUE, TRUE, TRUE, FALSE, FALSE, TRUE)\n",
        "\n",
        "df <- data.frame(Artist = artist, Category=category, Size = size, Start = start, Grammy = grammy)\n",
        "\n",
        "df"
      ],
      "metadata": {
        "id": "V4nBsdVsyauQ",
        "outputId": "e10dfeec-e081-482b-d036-4812208b7f2e",
        "colab": {
          "base_uri": "https://localhost:8080/",
          "height": 412
        }
      },
      "execution_count": 2,
      "outputs": [
        {
          "output_type": "display_data",
          "data": {
            "text/html": [
              "<table class=\"dataframe\">\n",
              "<caption>A data.frame: 10 × 5</caption>\n",
              "<thead>\n",
              "\t<tr><th scope=col>Artist</th><th scope=col>Category</th><th scope=col>Size</th><th scope=col>Start</th><th scope=col>Grammy</th></tr>\n",
              "\t<tr><th scope=col>&lt;chr&gt;</th><th scope=col>&lt;chr&gt;</th><th scope=col>&lt;chr&gt;</th><th scope=col>&lt;dbl&gt;</th><th scope=col>&lt;lgl&gt;</th></tr>\n",
              "</thead>\n",
              "<tbody>\n",
              "\t<tr><td>Justin Bieber </td><td>Pop             </td><td>1</td><td>2010</td><td> TRUE</td></tr>\n",
              "\t<tr><td>Taylor Swift  </td><td>Pop             </td><td>1</td><td>2006</td><td> TRUE</td></tr>\n",
              "\t<tr><td>The Beatles   </td><td>Rock            </td><td>4</td><td>1963</td><td> TRUE</td></tr>\n",
              "\t<tr><td>Ariana Grande </td><td>Pop             </td><td>1</td><td>2013</td><td> TRUE</td></tr>\n",
              "\t<tr><td>Arctic Monkeys</td><td>Alternative Rock</td><td>4</td><td>2006</td><td> TRUE</td></tr>\n",
              "\t<tr><td>Coldplay      </td><td>Alternative Rock</td><td>4</td><td>2000</td><td> TRUE</td></tr>\n",
              "\t<tr><td>Keith Urban   </td><td>Country         </td><td>1</td><td>1991</td><td> TRUE</td></tr>\n",
              "\t<tr><td>Thomas Rhett  </td><td>Country         </td><td>1</td><td>2013</td><td>FALSE</td></tr>\n",
              "\t<tr><td>Luke Bryan    </td><td>Country         </td><td>1</td><td>2007</td><td>FALSE</td></tr>\n",
              "\t<tr><td>Boston        </td><td>Rock            </td><td>4</td><td>1976</td><td> TRUE</td></tr>\n",
              "</tbody>\n",
              "</table>\n"
            ],
            "text/markdown": "\nA data.frame: 10 × 5\n\n| Artist &lt;chr&gt; | Category &lt;chr&gt; | Size &lt;chr&gt; | Start &lt;dbl&gt; | Grammy &lt;lgl&gt; |\n|---|---|---|---|---|\n| Justin Bieber  | Pop              | 1 | 2010 |  TRUE |\n| Taylor Swift   | Pop              | 1 | 2006 |  TRUE |\n| The Beatles    | Rock             | 4 | 1963 |  TRUE |\n| Ariana Grande  | Pop              | 1 | 2013 |  TRUE |\n| Arctic Monkeys | Alternative Rock | 4 | 2006 |  TRUE |\n| Coldplay       | Alternative Rock | 4 | 2000 |  TRUE |\n| Keith Urban    | Country          | 1 | 1991 |  TRUE |\n| Thomas Rhett   | Country          | 1 | 2013 | FALSE |\n| Luke Bryan     | Country          | 1 | 2007 | FALSE |\n| Boston         | Rock             | 4 | 1976 |  TRUE |\n\n",
            "text/latex": "A data.frame: 10 × 5\n\\begin{tabular}{lllll}\n Artist & Category & Size & Start & Grammy\\\\\n <chr> & <chr> & <chr> & <dbl> & <lgl>\\\\\n\\hline\n\t Justin Bieber  & Pop              & 1 & 2010 &  TRUE\\\\\n\t Taylor Swift   & Pop              & 1 & 2006 &  TRUE\\\\\n\t The Beatles    & Rock             & 4 & 1963 &  TRUE\\\\\n\t Ariana Grande  & Pop              & 1 & 2013 &  TRUE\\\\\n\t Arctic Monkeys & Alternative Rock & 4 & 2006 &  TRUE\\\\\n\t Coldplay       & Alternative Rock & 4 & 2000 &  TRUE\\\\\n\t Keith Urban    & Country          & 1 & 1991 &  TRUE\\\\\n\t Thomas Rhett   & Country          & 1 & 2013 & FALSE\\\\\n\t Luke Bryan     & Country          & 1 & 2007 & FALSE\\\\\n\t Boston         & Rock             & 4 & 1976 &  TRUE\\\\\n\\end{tabular}\n",
            "text/plain": [
              "   Artist         Category         Size Start Grammy\n",
              "1  Justin Bieber  Pop              1    2010   TRUE \n",
              "2  Taylor Swift   Pop              1    2006   TRUE \n",
              "3  The Beatles    Rock             4    1963   TRUE \n",
              "4  Ariana Grande  Pop              1    2013   TRUE \n",
              "5  Arctic Monkeys Alternative Rock 4    2006   TRUE \n",
              "6  Coldplay       Alternative Rock 4    2000   TRUE \n",
              "7  Keith Urban    Country          1    1991   TRUE \n",
              "8  Thomas Rhett   Country          1    2013  FALSE \n",
              "9  Luke Bryan     Country          1    2007  FALSE \n",
              "10 Boston         Rock             4    1976   TRUE "
            ]
          },
          "metadata": {}
        }
      ]
    },
    {
      "cell_type": "markdown",
      "source": [
        "## 5. Filter/Query a Data Frame (2 pts)\n",
        "\n",
        "Use the data frame you created above and show how to perform the following queries."
      ],
      "metadata": {
        "id": "nG5m-FIRydNU"
      }
    },
    {
      "cell_type": "code",
      "source": [
        "# Display the first 3 records and only the `artist`, `category` and `grammy` columns for each.\n",
        "df[ ,c(1,2,5)]"
      ],
      "metadata": {
        "id": "OlmbfFi6zSgR",
        "outputId": "e1c732ad-7b60-43c7-b091-57c9404e59cb",
        "colab": {
          "base_uri": "https://localhost:8080/",
          "height": 412
        }
      },
      "execution_count": 3,
      "outputs": [
        {
          "output_type": "display_data",
          "data": {
            "text/html": [
              "<table class=\"dataframe\">\n",
              "<caption>A data.frame: 10 × 3</caption>\n",
              "<thead>\n",
              "\t<tr><th scope=col>Artist</th><th scope=col>Category</th><th scope=col>Grammy</th></tr>\n",
              "\t<tr><th scope=col>&lt;chr&gt;</th><th scope=col>&lt;chr&gt;</th><th scope=col>&lt;lgl&gt;</th></tr>\n",
              "</thead>\n",
              "<tbody>\n",
              "\t<tr><td>Justin Bieber </td><td>Pop             </td><td> TRUE</td></tr>\n",
              "\t<tr><td>Taylor Swift  </td><td>Pop             </td><td> TRUE</td></tr>\n",
              "\t<tr><td>The Beatles   </td><td>Rock            </td><td> TRUE</td></tr>\n",
              "\t<tr><td>Ariana Grande </td><td>Pop             </td><td> TRUE</td></tr>\n",
              "\t<tr><td>Arctic Monkeys</td><td>Alternative Rock</td><td> TRUE</td></tr>\n",
              "\t<tr><td>Coldplay      </td><td>Alternative Rock</td><td> TRUE</td></tr>\n",
              "\t<tr><td>Keith Urban   </td><td>Country         </td><td> TRUE</td></tr>\n",
              "\t<tr><td>Thomas Rhett  </td><td>Country         </td><td>FALSE</td></tr>\n",
              "\t<tr><td>Luke Bryan    </td><td>Country         </td><td>FALSE</td></tr>\n",
              "\t<tr><td>Boston        </td><td>Rock            </td><td> TRUE</td></tr>\n",
              "</tbody>\n",
              "</table>\n"
            ],
            "text/markdown": "\nA data.frame: 10 × 3\n\n| Artist &lt;chr&gt; | Category &lt;chr&gt; | Grammy &lt;lgl&gt; |\n|---|---|---|\n| Justin Bieber  | Pop              |  TRUE |\n| Taylor Swift   | Pop              |  TRUE |\n| The Beatles    | Rock             |  TRUE |\n| Ariana Grande  | Pop              |  TRUE |\n| Arctic Monkeys | Alternative Rock |  TRUE |\n| Coldplay       | Alternative Rock |  TRUE |\n| Keith Urban    | Country          |  TRUE |\n| Thomas Rhett   | Country          | FALSE |\n| Luke Bryan     | Country          | FALSE |\n| Boston         | Rock             |  TRUE |\n\n",
            "text/latex": "A data.frame: 10 × 3\n\\begin{tabular}{lll}\n Artist & Category & Grammy\\\\\n <chr> & <chr> & <lgl>\\\\\n\\hline\n\t Justin Bieber  & Pop              &  TRUE\\\\\n\t Taylor Swift   & Pop              &  TRUE\\\\\n\t The Beatles    & Rock             &  TRUE\\\\\n\t Ariana Grande  & Pop              &  TRUE\\\\\n\t Arctic Monkeys & Alternative Rock &  TRUE\\\\\n\t Coldplay       & Alternative Rock &  TRUE\\\\\n\t Keith Urban    & Country          &  TRUE\\\\\n\t Thomas Rhett   & Country          & FALSE\\\\\n\t Luke Bryan     & Country          & FALSE\\\\\n\t Boston         & Rock             &  TRUE\\\\\n\\end{tabular}\n",
            "text/plain": [
              "   Artist         Category         Grammy\n",
              "1  Justin Bieber  Pop               TRUE \n",
              "2  Taylor Swift   Pop               TRUE \n",
              "3  The Beatles    Rock              TRUE \n",
              "4  Ariana Grande  Pop               TRUE \n",
              "5  Arctic Monkeys Alternative Rock  TRUE \n",
              "6  Coldplay       Alternative Rock  TRUE \n",
              "7  Keith Urban    Country           TRUE \n",
              "8  Thomas Rhett   Country          FALSE \n",
              "9  Luke Bryan     Country          FALSE \n",
              "10 Boston         Rock              TRUE "
            ]
          },
          "metadata": {}
        }
      ]
    },
    {
      "cell_type": "code",
      "source": [
        "# Display the records for just one musical category, such as only Rock bands or only Hip-hop bands.\n",
        "\n",
        "unique_cat <- unique(df$Category)\n",
        "print(unique_cat)\n",
        "df$Category <- trimws(tolower(df$Category))\n",
        "\n",
        "categories_want <- c(\"pop\", \"rock\", \"alternative rock\", \"country\")\n",
        "\n",
        "for (category in categories_want) {\n",
        "  df_new <- df[df$Category %in% category, ]\n",
        "  print(df_new)\n",
        "}"
      ],
      "metadata": {
        "id": "-l_kpWSzzlhG",
        "outputId": "8793253d-69ff-485d-971f-875ea68f868e",
        "colab": {
          "base_uri": "https://localhost:8080/"
        }
      },
      "execution_count": 15,
      "outputs": [
        {
          "output_type": "stream",
          "name": "stdout",
          "text": [
            "[1] \"pop\"              \"rock\"             \"alternative rock\" \"country\"         \n",
            "         Artist Category Size Start Grammy\n",
            "1 Justin Bieber      pop    1  2010   TRUE\n",
            "2  Taylor Swift      pop    1  2006   TRUE\n",
            "4 Ariana Grande      pop    1  2013   TRUE\n",
            "        Artist Category Size Start Grammy\n",
            "3  The Beatles     rock    4  1963   TRUE\n",
            "10      Boston     rock    4  1976   TRUE\n",
            "          Artist         Category Size Start Grammy\n",
            "5 Arctic Monkeys alternative rock    4  2006   TRUE\n",
            "6       Coldplay alternative rock    4  2000   TRUE\n",
            "        Artist Category Size Start Grammy\n",
            "7  Keith Urban  country    1  1991   TRUE\n",
            "8 Thomas Rhett  country    1  2013  FALSE\n",
            "9   Luke Bryan  country    1  2007  FALSE\n"
          ]
        }
      ]
    },
    {
      "cell_type": "markdown",
      "source": [
        "## Query a Data Frame using `tidyverse` (4 pts)\n",
        "\n",
        "1. Show how to load the library.\n",
        "2. Show how to glimpse basic features of the `starwars` data table.\n",
        "3. Create a query using tidyverse that retrieves the following data:\n",
        "    - Selects only these columns: `name`, `height`, `sex`, `species`.\n",
        "    - Filters for all species that are NOT Human. (That is, show species that are non-human only.)\n",
        "    - Arranges the resulting data in order by name.\n",
        "\n",
        "Show your output in a data frame."
      ],
      "metadata": {
        "id": "L-xnszjS0Byy"
      }
    },
    {
      "cell_type": "code",
      "source": [
        "#\n",
        "install.packages(\"tidyverse\")\n",
        "library(tidyverse)\n",
        "data(starwars)\n",
        "glimpse(starwars)\n",
        "data1 <- starwars %>%\n",
        "  select(name, height, sex, species) %>%\n",
        "  filter(species != \"Human\") %>%\n",
        "  arrange(name)\n",
        "\n",
        "print(data1)"
      ],
      "metadata": {
        "id": "yTMLzrxS0F4u"
      },
      "execution_count": null,
      "outputs": []
    }
  ]
}